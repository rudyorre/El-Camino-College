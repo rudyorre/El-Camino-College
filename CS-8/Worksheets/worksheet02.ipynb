{
 "cells": [
  {
   "cell_type": "markdown",
   "metadata": {},
   "source": [
    "Rudy Orre  \n",
    "Section: 0130  \n",
    "3 March 2021"
   ]
  },
  {
   "cell_type": "code",
   "execution_count": 1,
   "metadata": {},
   "outputs": [
    {
     "data": {
      "text/html": [
       "<table border=\"1\" class=\"dataframe\">\n",
       "    <thead>\n",
       "        <tr>\n",
       "            <th>Unnamed: 0</th> <th>Actor</th> <th>Total Gross</th> <th>Number of Movies</th> <th>Average per Movie</th> <th>#1 Movie</th> <th>Gross</th>\n",
       "        </tr>\n",
       "    </thead>\n",
       "    <tbody>\n",
       "        <tr>\n",
       "            <td>0         </td> <td>Harrison Ford     </td> <td>4871.7     </td> <td>41              </td> <td>118.8            </td> <td>Star Wars: The Force Awakens</td> <td>936.7</td>\n",
       "        </tr>\n",
       "        <tr>\n",
       "            <td>1         </td> <td>Samuel L. Jackson </td> <td>4772.8     </td> <td>69              </td> <td>69.2             </td> <td>The Avengers                </td> <td>623.4</td>\n",
       "        </tr>\n",
       "        <tr>\n",
       "            <td>2         </td> <td>Morgan Freeman    </td> <td>4468.3     </td> <td>61              </td> <td>73.3             </td> <td>The Dark Knight             </td> <td>534.9</td>\n",
       "        </tr>\n",
       "        <tr>\n",
       "            <td>3         </td> <td>Tom Hanks         </td> <td>4340.8     </td> <td>44              </td> <td>98.7             </td> <td>Toy Story 3                 </td> <td>415  </td>\n",
       "        </tr>\n",
       "        <tr>\n",
       "            <td>4         </td> <td>Robert Downey, Jr.</td> <td>3947.3     </td> <td>53              </td> <td>74.5             </td> <td>The Avengers                </td> <td>623.4</td>\n",
       "        </tr>\n",
       "        <tr>\n",
       "            <td>5         </td> <td>Eddie Murphy      </td> <td>3810.4     </td> <td>38              </td> <td>100.3            </td> <td>Shrek 2                     </td> <td>441.2</td>\n",
       "        </tr>\n",
       "        <tr>\n",
       "            <td>6         </td> <td>Tom Cruise        </td> <td>3587.2     </td> <td>36              </td> <td>99.6             </td> <td>War of the Worlds           </td> <td>234.3</td>\n",
       "        </tr>\n",
       "        <tr>\n",
       "            <td>7         </td> <td>Johnny Depp       </td> <td>3368.6     </td> <td>45              </td> <td>74.9             </td> <td>Dead Man's Chest            </td> <td>423.3</td>\n",
       "        </tr>\n",
       "        <tr>\n",
       "            <td>8         </td> <td>Michael Caine     </td> <td>3351.5     </td> <td>58              </td> <td>57.8             </td> <td>The Dark Knight             </td> <td>534.9</td>\n",
       "        </tr>\n",
       "        <tr>\n",
       "            <td>9         </td> <td>Scarlett Johansson</td> <td>3341.2     </td> <td>37              </td> <td>90.3             </td> <td>The Avengers                </td> <td>623.4</td>\n",
       "        </tr>\n",
       "    </tbody>\n",
       "</table>\n",
       "<p>... (40 rows omitted)</p>"
      ],
      "text/plain": [
       "Unnamed: 0 | Actor              | Total Gross | Number of Movies | Average per Movie | #1 Movie                     | Gross\n",
       "0          | Harrison Ford      | 4871.7      | 41               | 118.8             | Star Wars: The Force Awakens | 936.7\n",
       "1          | Samuel L. Jackson  | 4772.8      | 69               | 69.2              | The Avengers                 | 623.4\n",
       "2          | Morgan Freeman     | 4468.3      | 61               | 73.3              | The Dark Knight              | 534.9\n",
       "3          | Tom Hanks          | 4340.8      | 44               | 98.7              | Toy Story 3                  | 415\n",
       "4          | Robert Downey, Jr. | 3947.3      | 53               | 74.5              | The Avengers                 | 623.4\n",
       "5          | Eddie Murphy       | 3810.4      | 38               | 100.3             | Shrek 2                      | 441.2\n",
       "6          | Tom Cruise         | 3587.2      | 36               | 99.6              | War of the Worlds            | 234.3\n",
       "7          | Johnny Depp        | 3368.6      | 45               | 74.9              | Dead Man's Chest             | 423.3\n",
       "8          | Michael Caine      | 3351.5      | 58               | 57.8              | The Dark Knight              | 534.9\n",
       "9          | Scarlett Johansson | 3341.2      | 37               | 90.3              | The Avengers                 | 623.4\n",
       "... (40 rows omitted)"
      ]
     },
     "execution_count": 1,
     "metadata": {},
     "output_type": "execute_result"
    }
   ],
   "source": [
    "from datascience import *\n",
    "actors = Table.read_table('datasets/actors.csv')\n",
    "actors"
   ]
  },
  {
   "cell_type": "markdown",
   "metadata": {},
   "source": [
    "<h3>1.1 Write a line of code that returns actors sorted from highest to lowest number of movies.</h3>"
   ]
  },
  {
   "cell_type": "code",
   "execution_count": 2,
   "metadata": {},
   "outputs": [
    {
     "data": {
      "text/html": [
       "<table border=\"1\" class=\"dataframe\">\n",
       "    <thead>\n",
       "        <tr>\n",
       "            <th>Unnamed: 0</th> <th>Actor</th> <th>Total Gross</th> <th>Number of Movies</th> <th>Average per Movie</th> <th>#1 Movie</th> <th>Gross</th>\n",
       "        </tr>\n",
       "    </thead>\n",
       "    <tbody>\n",
       "        <tr>\n",
       "            <td>19        </td> <td>Robert DeNiro     </td> <td>3081.3     </td> <td>79              </td> <td>39               </td> <td>Meet the Fockers   </td> <td>279.3</td>\n",
       "        </tr>\n",
       "        <tr>\n",
       "            <td>1         </td> <td>Samuel L. Jackson </td> <td>4772.8     </td> <td>69              </td> <td>69.2             </td> <td>The Avengers       </td> <td>623.4</td>\n",
       "        </tr>\n",
       "        <tr>\n",
       "            <td>21        </td> <td>Liam Neeson       </td> <td>2942.7     </td> <td>63              </td> <td>46.7             </td> <td>The Phantom Menace </td> <td>474.5</td>\n",
       "        </tr>\n",
       "        <tr>\n",
       "            <td>2         </td> <td>Morgan Freeman    </td> <td>4468.3     </td> <td>61              </td> <td>73.3             </td> <td>The Dark Knight    </td> <td>534.9</td>\n",
       "        </tr>\n",
       "        <tr>\n",
       "            <td>12        </td> <td>Bruce Willis      </td> <td>3189.4     </td> <td>60              </td> <td>53.2             </td> <td>Sixth Sense        </td> <td>293.5</td>\n",
       "        </tr>\n",
       "        <tr>\n",
       "            <td>8         </td> <td>Michael Caine     </td> <td>3351.5     </td> <td>58              </td> <td>57.8             </td> <td>The Dark Knight    </td> <td>534.9</td>\n",
       "        </tr>\n",
       "        <tr>\n",
       "            <td>4         </td> <td>Robert Downey, Jr.</td> <td>3947.3     </td> <td>53              </td> <td>74.5             </td> <td>The Avengers       </td> <td>623.4</td>\n",
       "        </tr>\n",
       "        <tr>\n",
       "            <td>17        </td> <td>Stanley Tucci     </td> <td>3123.9     </td> <td>50              </td> <td>62.5             </td> <td>Catching Fire      </td> <td>424.7</td>\n",
       "        </tr>\n",
       "        <tr>\n",
       "            <td>27        </td> <td>Woody Harrelson   </td> <td>2815.8     </td> <td>50              </td> <td>56.3             </td> <td>Catching Fire      </td> <td>424.7</td>\n",
       "        </tr>\n",
       "        <tr>\n",
       "            <td>11        </td> <td>Robin Williams    </td> <td>3279.3     </td> <td>49              </td> <td>66.9             </td> <td>Night at the Museum</td> <td>250.9</td>\n",
       "        </tr>\n",
       "    </tbody>\n",
       "</table>\n",
       "<p>... (40 rows omitted)</p>"
      ],
      "text/plain": [
       "Unnamed: 0 | Actor              | Total Gross | Number of Movies | Average per Movie | #1 Movie            | Gross\n",
       "19         | Robert DeNiro      | 3081.3      | 79               | 39                | Meet the Fockers    | 279.3\n",
       "1          | Samuel L. Jackson  | 4772.8      | 69               | 69.2              | The Avengers        | 623.4\n",
       "21         | Liam Neeson        | 2942.7      | 63               | 46.7              | The Phantom Menace  | 474.5\n",
       "2          | Morgan Freeman     | 4468.3      | 61               | 73.3              | The Dark Knight     | 534.9\n",
       "12         | Bruce Willis       | 3189.4      | 60               | 53.2              | Sixth Sense         | 293.5\n",
       "8          | Michael Caine      | 3351.5      | 58               | 57.8              | The Dark Knight     | 534.9\n",
       "4          | Robert Downey, Jr. | 3947.3      | 53               | 74.5              | The Avengers        | 623.4\n",
       "17         | Stanley Tucci      | 3123.9      | 50               | 62.5              | Catching Fire       | 424.7\n",
       "27         | Woody Harrelson    | 2815.8      | 50               | 56.3              | Catching Fire       | 424.7\n",
       "11         | Robin Williams     | 3279.3      | 49               | 66.9              | Night at the Museum | 250.9\n",
       "... (40 rows omitted)"
      ]
     },
     "execution_count": 2,
     "metadata": {},
     "output_type": "execute_result"
    }
   ],
   "source": [
    "actors = actors.sort('Number of Movies', descending=True)\n",
    "actors"
   ]
  },
  {
   "cell_type": "markdown",
   "metadata": {},
   "source": [
    "<h3> 1.2 Write a line of code to find the actor who has made the most movies. Do not return a table with the actor's name; just return the name as a string. </h3>"
   ]
  },
  {
   "cell_type": "code",
   "execution_count": 3,
   "metadata": {},
   "outputs": [
    {
     "data": {
      "text/plain": [
       "'Robert DeNiro'"
      ]
     },
     "execution_count": 3,
     "metadata": {},
     "output_type": "execute_result"
    }
   ],
   "source": [
    "actors.column('Actor').take(0)"
   ]
  },
  {
   "cell_type": "markdown",
   "metadata": {},
   "source": [
    "<h3>1.3 What is Tom Hank's #1 movie? Write a line of code to retunr the name of the movie as a string.</h3>"
   ]
  },
  {
   "cell_type": "code",
   "execution_count": 4,
   "metadata": {},
   "outputs": [
    {
     "data": {
      "text/plain": [
       "'Toy Story 3'"
      ]
     },
     "execution_count": 4,
     "metadata": {},
     "output_type": "execute_result"
    }
   ],
   "source": [
    "actors.where('Actor','Tom Hanks')['#1 Movie'].take(0)"
   ]
  },
  {
   "cell_type": "markdown",
   "metadata": {},
   "source": [
    "<h3> 1.4 write a line of code which returns a table consisting of only the \"Actor\" column where the elements in the \"Actor\" column are the names of actors who have above 40 movies and have a total gross below 3000.</h3>"
   ]
  },
  {
   "cell_type": "code",
   "execution_count": 5,
   "metadata": {},
   "outputs": [
    {
     "data": {
      "text/html": [
       "<table border=\"1\" class=\"dataframe\">\n",
       "    <thead>\n",
       "        <tr>\n",
       "            <th>Actor</th>\n",
       "        </tr>\n",
       "    </thead>\n",
       "    <tbody>\n",
       "        <tr>\n",
       "            <td>Liam Neeson    </td>\n",
       "        </tr>\n",
       "        <tr>\n",
       "            <td>Woody Harrelson</td>\n",
       "        </tr>\n",
       "        <tr>\n",
       "            <td>Tommy Lee Jones</td>\n",
       "        </tr>\n",
       "        <tr>\n",
       "            <td>Dustin Hoffman </td>\n",
       "        </tr>\n",
       "        <tr>\n",
       "            <td>Julia Roberts  </td>\n",
       "        </tr>\n",
       "    </tbody>\n",
       "</table>"
      ],
      "text/plain": [
       "Actor\n",
       "Liam Neeson\n",
       "Woody Harrelson\n",
       "Tommy Lee Jones\n",
       "Dustin Hoffman\n",
       "Julia Roberts"
      ]
     },
     "execution_count": 5,
     "metadata": {},
     "output_type": "execute_result"
    }
   ],
   "source": [
    "actors.where('Number of Movies', are.above(40)).where('Total Gross', are.below(3000)).select('Actor')"
   ]
  },
  {
   "cell_type": "markdown",
   "metadata": {},
   "source": [
    "Rudy Orre  \n",
    "Section: 0130  \n",
    "3 March 2021"
   ]
  }
 ],
 "metadata": {
  "kernelspec": {
   "display_name": "Python 3",
   "language": "python",
   "name": "python3"
  },
  "language_info": {
   "codemirror_mode": {
    "name": "ipython",
    "version": 3
   },
   "file_extension": ".py",
   "mimetype": "text/x-python",
   "name": "python",
   "nbconvert_exporter": "python",
   "pygments_lexer": "ipython3",
   "version": "3.8.5"
  }
 },
 "nbformat": 4,
 "nbformat_minor": 4
}
